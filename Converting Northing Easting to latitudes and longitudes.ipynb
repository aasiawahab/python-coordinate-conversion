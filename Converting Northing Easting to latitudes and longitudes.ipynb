{
 "cells": [
  {
   "cell_type": "code",
   "execution_count": 1,
   "id": "127de504",
   "metadata": {},
   "outputs": [],
   "source": [
    "import pandas as pd\n",
    "import geopandas as gpd\n",
    "from shapely.geometry import Point\n",
    "from pyproj import Proj, transform\n",
    "import matplotlib.pyplot as plt"
   ]
  },
  {
   "cell_type": "code",
   "execution_count": 2,
   "id": "39f33fef",
   "metadata": {},
   "outputs": [
    {
     "name": "stderr",
     "output_type": "stream",
     "text": [
      "C:\\Users\\aasia\\anaconda3\\envs\\geo_env\\lib\\site-packages\\pyproj\\crs\\crs.py:141: FutureWarning: '+init=<authority>:<code>' syntax is deprecated. '<authority>:<code>' is the preferred initialization method. When making the change, be mindful of axis order changes: https://pyproj4.github.io/pyproj/stable/gotchas.html#axis-order-changes-in-proj-6\n",
      "  in_crs_string = _prepare_from_proj_string(in_crs_string)\n",
      "C:\\Users\\aasia\\anaconda3\\envs\\geo_env\\lib\\site-packages\\pyproj\\crs\\crs.py:141: FutureWarning: '+init=<authority>:<code>' syntax is deprecated. '<authority>:<code>' is the preferred initialization method. When making the change, be mindful of axis order changes: https://pyproj4.github.io/pyproj/stable/gotchas.html#axis-order-changes-in-proj-6\n",
      "  in_crs_string = _prepare_from_proj_string(in_crs_string)\n",
      "C:\\Users\\aasia\\AppData\\Local\\Temp\\ipykernel_7052\\369676341.py:4: FutureWarning: This function is deprecated. See: https://pyproj4.github.io/pyproj/stable/gotchas.html#upgrading-to-pyproj-2-from-pyproj-1\n",
      "  lon, lat = transform(proj_utm, proj_latlon, easting, northing)\n"
     ]
    }
   ],
   "source": [
    "# Function to convert northing and easting to latitude and longitude\n",
    "def convert_coordinates(row):\n",
    "    easting, northing = row['Easting'], row['Northing']\n",
    "    lon, lat = transform(proj_utm, proj_latlon, easting, northing)\n",
    "    return pd.Series({'Latitude': lat, 'Longitude': lon})\n",
    "\n",
    "# Read CSV file with northing and easting coordinates\n",
    "input_csv_file = 'data.csv'\n",
    "df = pd.read_csv(input_csv_file)\n",
    "\n",
    "# Define UTM and lat/lon projection\n",
    "proj_utm = Proj(init='epsg:27700')  # Replace 'your_UTM_zone' with the appropriate UTM zone code\n",
    "proj_latlon = Proj(init='epsg:4326')  # WGS84 coordinate reference system\n",
    "\n",
    "# Create a GeoDataFrame with Point geometries\n",
    "geometry = [Point(xy) for xy in zip(df['Easting'], df['Northing'])]\n",
    "gdf = gpd.GeoDataFrame(df, geometry=geometry, crs='EPSG:27700')  # Replace 'your_UTM_zone'\n",
    "\n",
    "# Convert UTM coordinates to latitude and longitude\n",
    "gdf[['Latitude', 'Longitude']] = gdf.apply(convert_coordinates, axis=1)\n",
    "\n"
   ]
  },
  {
   "cell_type": "code",
   "execution_count": 3,
   "id": "352c3c72",
   "metadata": {},
   "outputs": [
    {
     "name": "stdout",
     "output_type": "stream",
     "text": [
      "Conversion completed. Results saved to converted_coordinates.csv\n"
     ]
    }
   ],
   "source": [
    "# Save the results to a new CSV file\n",
    "output_csv_file = 'converted_coordinates.csv'\n",
    "gdf.to_csv(output_csv_file, index=False)\n",
    "\n",
    "print(f\"Conversion completed. Results saved to {output_csv_file}\")"
   ]
  },
  {
   "cell_type": "code",
   "execution_count": null,
   "id": "7556e8dc-2a97-45ac-b39c-1b3723f2d7e9",
   "metadata": {},
   "outputs": [],
   "source": []
  }
 ],
 "metadata": {
  "kernelspec": {
   "display_name": "Python 3 (ipykernel)",
   "language": "python",
   "name": "python3"
  },
  "language_info": {
   "codemirror_mode": {
    "name": "ipython",
    "version": 3
   },
   "file_extension": ".py",
   "mimetype": "text/x-python",
   "name": "python",
   "nbconvert_exporter": "python",
   "pygments_lexer": "ipython3",
   "version": "3.10.13"
  }
 },
 "nbformat": 4,
 "nbformat_minor": 5
}
